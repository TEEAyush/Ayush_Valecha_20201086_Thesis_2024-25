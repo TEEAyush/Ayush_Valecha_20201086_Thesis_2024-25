{
 "cells": [
  {
   "cell_type": "code",
   "execution_count": null,
   "metadata": {
    "vscode": {
     "languageId": "r"
    }
   },
   "outputs": [],
   "source": [
    "# Set the working directory to where your file is located\n",
    "setwd(\"C:/Sylvain_Billiard/Masters_Thesis_Work/pollen_allergen_genes/data/genomes/\")\n",
    "\n",
    "\n"
   ]
  },
  {
   "cell_type": "markdown",
   "metadata": {},
   "source": [
    "### data_bad_scripts"
   ]
  },
  {
   "cell_type": "markdown",
   "metadata": {},
   "source": [
    "## \\# Exons"
   ]
  },
  {
   "cell_type": "code",
   "execution_count": 19,
   "metadata": {
    "vscode": {
     "languageId": "r"
    }
   },
   "outputs": [
    {
     "name": "stdout",
     "output_type": "stream",
     "text": [
      "                                         geneid exon_count\n",
      "1            maker-chr_M_12-augustus-gene-170.3          2\n",
      "2            maker-chr_M_12-augustus-gene-171.2          2\n",
      "3            maker-chr_M_12-augustus-gene-171.1          2\n",
      "4 augustus_masked-chr_M_12-processed-gene-172.6          2\n",
      "5            maker-chr_M_12-augustus-gene-170.2          3\n",
      "6            maker-chr_M_12-augustus-gene-171.0          2\n"
     ]
    }
   ],
   "source": [
    "# Read the data into R using whitespace as separator\n",
    "PAG_stats_data <- read.table(\"data_bad_scripts/PAG_stats.txt\", header = FALSE, sep = \"\", fill = TRUE, stringsAsFactors = FALSE)\n",
    "q\n",
    "# Select only the columns for geneid (column 1) and exon_count (column 4)\n",
    "exon_data_PAG <- PAG_stats_data[, c(1, 4)]\n",
    "\n",
    "# Assign column names for clarity\n",
    "colnames(exon_data_PAG) <- c(\"geneid\", \"exon_count\")\n",
    "\n",
    "# View the filtered data\n",
    "print(head(exon_data_PAG))"
   ]
  },
  {
   "cell_type": "code",
   "execution_count": 20,
   "metadata": {
    "vscode": {
     "languageId": "r"
    }
   },
   "outputs": [
    {
     "name": "stdout",
     "output_type": "stream",
     "text": [
      "                            geneid exon_count\n",
      "1 maker-chr_M_20-augustus-gene-0.0          3\n",
      "2 maker-chr_M_20-augustus-gene-0.1          6\n",
      "3 maker-chr_M_20-augustus-gene-0.2          7\n",
      "4 maker-chr_M_20-augustus-gene-1.0         11\n",
      "5 maker-chr_M_20-augustus-gene-1.1          5\n",
      "6 maker-chr_M_20-augustus-gene-1.5          4\n"
     ]
    }
   ],
   "source": [
    "# Read the data into R using whitespace as separator\n",
    "All_gene_stats_data <- read.table(\"data_bad_scripts/Pan_040_all_gene_stats_slurm.txt\", header = FALSE, sep = \"\", fill = TRUE, stringsAsFactors = FALSE)\n",
    "\n",
    "# Select only the columns for geneid (column 1) and exon_count (column 4)\n",
    "exon_data_all <- All_gene_stats_data[, c(1, 4)]\n",
    "\n",
    "# Assign column names for clarity\n",
    "colnames(exon_data_all) <- c(\"geneid\", \"exon_count\")\n",
    "\n",
    "# View the filtered data\n",
    "print(head(exon_data_all))"
   ]
  },
  {
   "cell_type": "code",
   "execution_count": 21,
   "metadata": {
    "vscode": {
     "languageId": "r"
    }
   },
   "outputs": [
    {
     "name": "stdout",
     "output_type": "stream",
     "text": [
      "[1] 15\n",
      "[1] 26670\n",
      "[1] 26655\n"
     ]
    }
   ],
   "source": [
    "# Check the number of rows in each data frame\n",
    "print(nrow(exon_data_PAG))\n",
    "print(nrow(exon_data_all))\n",
    "\n",
    "\n",
    "# remove the entries of the PAG data from the All gene data\n",
    "\n",
    "exon_data_non_PAG <- exon_data_all[!exon_data_all$geneid %in% exon_data_PAG$geneid,]\n",
    "\n",
    "# check the number of rows in the new data frame\n",
    "\n",
    "print(nrow(exon_data_non_PAG))"
   ]
  },
  {
   "cell_type": "code",
   "execution_count": 22,
   "metadata": {
    "vscode": {
     "languageId": "r"
    }
   },
   "outputs": [
    {
     "data": {
      "image/png": "[encoded data removed]",
      "text/plain": [
       "Plot with title \"Exon count distribution for PAG and non-PAG genes\""
      ]
     },
     "metadata": {
      "image/png": {
       "height": 420,
       "width": 420
      }
     },
     "output_type": "display_data"
    }
   ],
   "source": [
    "# now we compare the exon counts of the PAG and non-PAG genes\n",
    "# create a boxplot of the exon counts for the PAG and non-PAG genes\n",
    "\n",
    "# combine the data frames\n",
    "exon_data_PAG$gene_type <- \"PAG\"\n",
    "exon_data_non_PAG$gene_type <- \"non-PAG\"\n",
    "\n",
    "exon_data_combined <- rbind(exon_data_PAG, exon_data_non_PAG)\n",
    "\n",
    "# create a boxplot\n",
    "boxplot(exon_count ~ gene_type, data = exon_data_combined, main = \"Exon count distribution for PAG and non-PAG genes\", xlab = \"Gene type\", ylab = \"Exon count\", col = c(\"red\", \"blue\"))\n",
    "\n"
   ]
  },
  {
   "cell_type": "code",
   "execution_count": 48,
   "metadata": {
    "vscode": {
     "languageId": "r"
    }
   },
   "outputs": [
    {
     "data": {
      "image/png": "[encoded data removed]",
      "text/plain": [
       "Plot with title \"Exon count distribution for PAG and non-PAG genes\""
      ]
     },
     "metadata": {
      "image/png": {
       "height": 420,
       "width": 420
      }
     },
     "output_type": "display_data"
    }
   ],
   "source": [
    "# boxplot withou outliers\n",
    "\n",
    "boxplot(exon_count ~ gene_type, data = exon_data_combined, main = \"Exon count distribution for PAG and non-PAG genes\", xlab = \"Gene type\", ylab = \"Exon count\", col = c(\"red\", \"blue\"), outline = FALSE)"
   ]
  },
  {
   "cell_type": "code",
   "execution_count": 57,
   "metadata": {
    "vscode": {
     "languageId": "r"
    }
   },
   "outputs": [
    {
     "data": {
      "image/png": "[encoded data removed]",
      "text/plain": [
       "Plot with title \"Exon count distribution for PAG and non-PAG genes\""
      ]
     },
     "metadata": {
      "image/png": {
       "height": 420,
       "width": 420
      }
     },
     "output_type": "display_data"
    }
   ],
   "source": [
    "# also create a histogram of the exon counts for the PAG and non-PAG genes\n",
    "\n",
    "# create a histogram\n",
    "# make different transparency levels for the two histograms\n",
    "# normalize the y-axis to make the comparison easier\n",
    "\n",
    "hist(exon_data_PAG$exon_count, col = rgb(1, 0, 0, 1), xlim = c(0, 50), ylim = c(0, 0.2), breaks = 50, main = \"Exon count distribution for PAG and non-PAG genes\", xlab = \"Exon count\", ylab = \"Density\", probability = TRUE)\n",
    "hist(exon_data_non_PAG$exon_count, col = rgb(0, 0, 1, 0.5), add = TRUE, breaks = 50, probability = TRUE)\n",
    "\n",
    "# legend\n",
    "legend(\"topright\", legend = c(\"PAG\", \"non-PAG\"), fill = c(rgb(1, 0, 0, 1), rgb(0, 0, 1, 0.5)))\n",
    "\n"
   ]
  },
  {
   "cell_type": "code",
   "execution_count": 37,
   "metadata": {
    "vscode": {
     "languageId": "r"
    }
   },
   "outputs": [
    {
     "data": {
      "text/plain": [
       "   Min. 1st Qu.  Median    Mean 3rd Qu.    Max. \n",
       "  2.000   2.000   2.000   2.133   2.000   3.000 "
      ]
     },
     "metadata": {},
     "output_type": "display_data"
    },
    {
     "data": {
      "text/plain": [
       "   Min. 1st Qu.  Median    Mean 3rd Qu.    Max. \n",
       "  1.000   3.000   6.000   6.787   9.000 132.000 "
      ]
     },
     "metadata": {},
     "output_type": "display_data"
    }
   ],
   "source": [
    "# also get statistics for the exon counts of the PAG and non-PAG genes\n",
    "\n",
    "# use summary statistics\n",
    "summary(exon_data_PAG$exon_count)\n",
    "summary(exon_data_non_PAG$exon_count)"
   ]
  },
  {
   "cell_type": "markdown",
   "metadata": {},
   "source": [
    "## [Exon] (Avg Exon length)"
   ]
  },
  {
   "cell_type": "code",
   "execution_count": 43,
   "metadata": {
    "vscode": {
     "languageId": "r"
    }
   },
   "outputs": [
    {
     "name": "stdout",
     "output_type": "stream",
     "text": [
      "                                         geneid avg_exon_length\n",
      "1            maker-chr_M_12-augustus-gene-170.3             272\n",
      "2            maker-chr_M_12-augustus-gene-171.2             261\n",
      "3            maker-chr_M_12-augustus-gene-171.1             261\n",
      "4 augustus_masked-chr_M_12-processed-gene-172.6             413\n",
      "5            maker-chr_M_12-augustus-gene-170.2             212\n",
      "6            maker-chr_M_12-augustus-gene-171.0             261\n"
     ]
    }
   ],
   "source": [
    "# Read the data into R using whitespace as separator\n",
    "PAG_avg_exon_length_data <- read.table(\"data_bad_scripts/PAG_exon_length.txt\", header = FALSE, sep = \"\", fill = TRUE, stringsAsFactors = FALSE)\n",
    "\n",
    "# Assign column names for clarity\n",
    "colnames(PAG_avg_exon_length_data) <- c(\"geneid\", \"avg_exon_length\")\n",
    "\n",
    "# View the filtered data\n",
    "print(head(PAG_avg_exon_length_data))"
   ]
  },
  {
   "cell_type": "code",
   "execution_count": 44,
   "metadata": {
    "vscode": {
     "languageId": "r"
    }
   },
   "outputs": [
    {
     "name": "stdout",
     "output_type": "stream",
     "text": [
      "                            geneid avg_exon_length\n",
      "1 maker-chr_M_20-augustus-gene-0.0         751.667\n",
      "2 maker-chr_M_20-augustus-gene-0.1         172.333\n",
      "3 maker-chr_M_20-augustus-gene-0.2         111.286\n",
      "4 maker-chr_M_20-augustus-gene-1.0         194.273\n",
      "5 maker-chr_M_20-augustus-gene-1.1         274.200\n",
      "6 maker-chr_M_20-augustus-gene-1.5         276.500\n"
     ]
    }
   ],
   "source": [
    "# Read the data into R using whitespace as separator\n",
    "All_gene_avg_exon_length_data <- read.table(\"data_bad_scripts/Pan_040_all_gene_exon_length_slurm.txt\", header = FALSE, sep = \"\", fill = TRUE, stringsAsFactors = FALSE)\n",
    "\n",
    "# Assign column names for clarity\n",
    "colnames(All_gene_avg_exon_length_data) <- c(\"geneid\", \"avg_exon_length\")\n",
    "\n",
    "# View the filtered data\n",
    "print(head(All_gene_avg_exon_length_data))"
   ]
  },
  {
   "cell_type": "code",
   "execution_count": 45,
   "metadata": {
    "vscode": {
     "languageId": "r"
    }
   },
   "outputs": [
    {
     "name": "stdout",
     "output_type": "stream",
     "text": [
      "[1] 26655\n"
     ]
    }
   ],
   "source": [
    "# remove the entries of the PAG data from the All gene data\n",
    "\n",
    "non_PAG_avg_exon_length_data <- All_gene_avg_exon_length_data[!All_gene_avg_exon_length_data$geneid %in% PAG_avg_exon_length_data$geneid,]\n",
    "\n",
    "print(nrow(non_PAG_avg_exon_length_data))"
   ]
  },
  {
   "cell_type": "code",
   "execution_count": 46,
   "metadata": {
    "vscode": {
     "languageId": "r"
    }
   },
   "outputs": [
    {
     "data": {
      "image/png": "[encoded data removed]",
      "text/plain": [
       "Plot with title \"Average exon length distribution for PAG and non-PAG genes\""
      ]
     },
     "metadata": {
      "image/png": {
       "height": 420,
       "width": 420
      }
     },
     "output_type": "display_data"
    }
   ],
   "source": [
    "# boxplot\n",
    "\n",
    "PAG_avg_exon_length_data$gene_type <- \"PAG\"\n",
    "non_PAG_avg_exon_length_data$gene_type <- \"non-PAG\"\n",
    "\n",
    "avg_exon_length_data_combined <- rbind(PAG_avg_exon_length_data, non_PAG_avg_exon_length_data)\n",
    "\n",
    "boxplot(avg_exon_length ~ gene_type, data = avg_exon_length_data_combined, main = \"Average exon length distribution for PAG and non-PAG genes\", xlab = \"Gene type\", ylab = \"Average exon length\", col = c(\"red\", \"blue\"))"
   ]
  },
  {
   "cell_type": "code",
   "execution_count": 47,
   "metadata": {
    "vscode": {
     "languageId": "r"
    }
   },
   "outputs": [
    {
     "data": {
      "image/png": "[encoded data removed]",
      "text/plain": [
       "Plot with title \"Average exon length distribution for PAG and non-PAG genes\""
      ]
     },
     "metadata": {
      "image/png": {
       "height": 420,
       "width": 420
      }
     },
     "output_type": "display_data"
    }
   ],
   "source": [
    "# boxplot withou outliers\n",
    "\n",
    "boxplot(avg_exon_length ~ gene_type, data = avg_exon_length_data_combined, main = \"Average exon length distribution for PAG and non-PAG genes\", xlab = \"Gene type\", ylab = \"Average exon length\", col = c(\"red\", \"blue\"), outline = FALSE)"
   ]
  },
  {
   "cell_type": "code",
   "execution_count": 59,
   "metadata": {
    "vscode": {
     "languageId": "r"
    }
   },
   "outputs": [
    {
     "data": {
      "image/png": "[encoded data removed]",
      "text/plain": [
       "Plot with title \"Average exon length distribution for PAG and non-PAG genes\""
      ]
     },
     "metadata": {
      "image/png": {
       "height": 420,
       "width": 420
      }
     },
     "output_type": "display_data"
    }
   ],
   "source": [
    "# histogram\n",
    "\n",
    "hist(PAG_avg_exon_length_data$avg_exon_length, col = rgb(1, 0, 0, 1), xlim = c(0, 500), ylim = c(0, 0.05), breaks = 50, main = \"Average exon length distribution for PAG and non-PAG genes\", xlab = \"Average exon length\", ylab = \"Density\", probability = TRUE)\n",
    "hist(non_PAG_avg_exon_length_data$avg_exon_length, col = rgb(0, 0, 1, 0.5), add = TRUE, breaks = 50, probability = TRUE)\n",
    "\n",
    "# legend\n",
    "legend(\"topright\", legend = c(\"PAG\", \"non-PAG\"), fill = c(rgb(1, 0, 0, 1), rgb(0, 0, 1, 0.5)))"
   ]
  },
  {
   "cell_type": "code",
   "execution_count": 60,
   "metadata": {
    "vscode": {
     "languageId": "r"
    }
   },
   "outputs": [
    {
     "name": "stdout",
     "output_type": "stream",
     "text": [
      "[1] \"PAG average exon length\"\n"
     ]
    },
    {
     "data": {
      "text/plain": [
       "   Min. 1st Qu.  Median    Mean 3rd Qu.    Max. \n",
       "    107     259     272     291     340     413 "
      ]
     },
     "metadata": {},
     "output_type": "display_data"
    },
    {
     "name": "stdout",
     "output_type": "stream",
     "text": [
      "[1] \"non-PAG average exon length\"\n"
     ]
    },
    {
     "data": {
      "text/plain": [
       "   Min. 1st Qu.  Median    Mean 3rd Qu.    Max. \n",
       "   38.0   156.0   229.9   307.2   362.8  5354.0 "
      ]
     },
     "metadata": {},
     "output_type": "display_data"
    }
   ],
   "source": [
    "# summary statistics\n",
    "\n",
    "\n",
    "print(\"PAG average exon length\")\n",
    "summary(PAG_avg_exon_length_data$avg_exon_length)\n",
    "\n",
    "\n",
    "print(\"non-PAG average exon length\")\n",
    "summary(non_PAG_avg_exon_length_data$avg_exon_length)\n"
   ]
  },
  {
   "cell_type": "markdown",
   "metadata": {},
   "source": [
    "## gene length"
   ]
  },
  {
   "cell_type": "code",
   "execution_count": 62,
   "metadata": {
    "vscode": {
     "languageId": "r"
    }
   },
   "outputs": [
    {
     "name": "stdout",
     "output_type": "stream",
     "text": [
      "                                         geneid gene_length\n",
      "1            maker-chr_M_12-augustus-gene-170.3        1072\n",
      "2            maker-chr_M_12-augustus-gene-171.2         987\n",
      "3            maker-chr_M_12-augustus-gene-171.1        1058\n",
      "4 augustus_masked-chr_M_12-processed-gene-172.6        1333\n",
      "5            maker-chr_M_12-augustus-gene-170.2        1793\n",
      "6            maker-chr_M_12-augustus-gene-171.0        1034\n"
     ]
    }
   ],
   "source": [
    "# Read the data into R using whitespace as separator\n",
    "PAG_gl <- read.table(\"data_bad_scripts/PAG_length.txt\", header = FALSE, sep = \"\", fill = TRUE, stringsAsFactors = FALSE)\n",
    "\n",
    "# Assign column names for clarity\n",
    "colnames(PAG_gl) <- c(\"geneid\", \"gene_length\")\n",
    "\n",
    "# View the filtered data\n",
    "print(head(PAG_gl))"
   ]
  },
  {
   "cell_type": "code",
   "execution_count": 63,
   "metadata": {
    "vscode": {
     "languageId": "r"
    }
   },
   "outputs": [
    {
     "name": "stdout",
     "output_type": "stream",
     "text": [
      "                            geneid gene_length\n",
      "1 maker-chr_M_20-augustus-gene-0.0        3010\n",
      "2 maker-chr_M_20-augustus-gene-0.1        1653\n",
      "3 maker-chr_M_20-augustus-gene-0.2        3676\n",
      "4 maker-chr_M_20-augustus-gene-1.0        8299\n",
      "5 maker-chr_M_20-augustus-gene-1.1        4953\n",
      "6 maker-chr_M_20-augustus-gene-1.5        2110\n"
     ]
    }
   ],
   "source": [
    "# Read the data into R using whitespace as separator\n",
    "All_gl <- read.table(\"data_bad_scripts/Pan_040_all_gene_length_slurm.txt\", header = FALSE, sep = \"\", fill = TRUE, stringsAsFactors = FALSE)\n",
    "\n",
    "# Assign column names for clarity\n",
    "colnames(All_gl) <- c(\"geneid\", \"gene_length\")\n",
    "\n",
    "# View the filtered data\n",
    "print(head(All_gl))"
   ]
  },
  {
   "cell_type": "code",
   "execution_count": 64,
   "metadata": {
    "vscode": {
     "languageId": "r"
    }
   },
   "outputs": [
    {
     "name": "stdout",
     "output_type": "stream",
     "text": [
      "[1] 26655\n"
     ]
    }
   ],
   "source": [
    "# remove the entries of the PAG data from the All gene data\n",
    "\n",
    "non_PAG_gl <- All_gl[!All_gl$geneid %in% PAG_gl$geneid,]\n",
    "\n",
    "print(nrow(non_PAG_gl))"
   ]
  },
  {
   "cell_type": "code",
   "execution_count": 65,
   "metadata": {
    "vscode": {
     "languageId": "r"
    }
   },
   "outputs": [
    {
     "data": {
      "image/png": "[encoded data removed]",
      "text/plain": [
       "Plot with title \"Gene length distribution for PAG and non-PAG genes\""
      ]
     },
     "metadata": {
      "image/png": {
       "height": 420,
       "width": 420
      }
     },
     "output_type": "display_data"
    }
   ],
   "source": [
    "# boxplot\n",
    "\n",
    "PAG_gl$gene_type <- \"PAG\"\n",
    "non_PAG_gl$gene_type <- \"non-PAG\"\n",
    "\n",
    "gl_combined <- rbind(PAG_gl, non_PAG_gl)\n",
    "\n",
    "boxplot(gene_length ~ gene_type, data = gl_combined, main = \"Gene length distribution for PAG and non-PAG genes\", xlab = \"Gene type\", ylab = \"Gene length\", col = c(\"red\", \"bluqe\"))"
   ]
  },
  {
   "cell_type": "code",
   "execution_count": 66,
   "metadata": {
    "vscode": {
     "languageId": "r"
    }
   },
   "outputs": [
    {
     "data": {
      "image/png": "[encoded data removed]",
      "text/plain": [
       "Plot with title \"Gene length distribution for PAG and non-PAG genes\""
      ]
     },
     "metadata": {
      "image/png": {
       "height": 420,
       "width": 420
      }
     },
     "output_type": "display_data"
    }
   ],
   "source": [
    "# boxplot withou outliers\n",
    "\n",
    "boxplot(gene_length ~ gene_type, data = gl_combined, main = \"Gene length distribution for PAG and non-PAG genes\", xlab = \"Gene type\", ylab = \"Gene length\", col = c(\"red\", \"blue\"), outline = FALSE)"
   ]
  },
  {
   "cell_type": "code",
   "execution_count": 70,
   "metadata": {
    "vscode": {
     "languageId": "r"
    }
   },
   "outputs": [
    {
     "data": {
      "image/png": "[encoded data removed]",
      "text/plain": [
       "Plot with title \"Gene length distribution for PAG and non-PAG genes\""
      ]
     },
     "metadata": {
      "image/png": {
       "height": 420,
       "width": 420
      }
     },
     "output_type": "display_data"
    }
   ],
   "source": [
    "# histogram\n",
    "\n",
    "hist(PAG_gl$gene_length, col = rgb(1, 0, 0, 1), xlim = c(0, 5000), ylim = c(0, 0.005), breaks = 50, main = \"Gene length distribution for PAG and non-PAG genes\", xlab = \"Gene length\", ylab = \"Density\", probability = TRUE)\n",
    "hist(non_PAG_gl$gene_length, col = rgb(0, 0, 1, 0.5), add = TRUE, breaks = 50, probability = TRUE)\n",
    "\n",
    "# legend\n",
    "legend(\"topright\", legend = c(\"PAG\", \"non-PAG\"), fill = c(rgb(1, 0, 0, 1), rgb(0, 0, 1, 0.5)))"
   ]
  },
  {
   "cell_type": "code",
   "execution_count": 71,
   "metadata": {
    "vscode": {
     "languageId": "r"
    }
   },
   "outputs": [
    {
     "name": "stdout",
     "output_type": "stream",
     "text": [
      "[1] \"PAG gene length\"\n"
     ]
    },
    {
     "data": {
      "text/plain": [
       "   Min. 1st Qu.  Median    Mean 3rd Qu.    Max. \n",
       "    487    1032    1057    1098    1109    1793 "
      ]
     },
     "metadata": {},
     "output_type": "display_data"
    },
    {
     "name": "stdout",
     "output_type": "stream",
     "text": [
      "[1] \"non-PAG gene length\"\n"
     ]
    },
    {
     "data": {
      "text/plain": [
       "   Min. 1st Qu.  Median    Mean 3rd Qu.    Max. \n",
       "    104    2005    3329    4105    5289   48328 "
      ]
     },
     "metadata": {},
     "output_type": "display_data"
    }
   ],
   "source": [
    "# summary statistics\n",
    "\n",
    "print(\"PAG gene length\")\n",
    "summary(PAG_gl$gene_length)\n",
    "\n",
    "print(\"non-PAG gene length\")\n",
    "summary(non_PAG_gl$gene_length)"
   ]
  },
  {
   "cell_type": "markdown",
   "metadata": {},
   "source": [
    "###  results_Pan_040_gff_expl_anal"
   ]
  },
  {
   "cell_type": "markdown",
   "metadata": {},
   "source": [
    "### Exons"
   ]
  },
  {
   "cell_type": "code",
   "execution_count": 36,
   "metadata": {
    "vscode": {
     "languageId": "r"
    }
   },
   "outputs": [
    {
     "data": {
      "text/html": [
       "<table class=\"dataframe\">\n",
       "<caption>A data.frame: 6 × 3</caption>\n",
       "<thead>\n",
       "\t<tr><th></th><th scope=col>V1</th><th scope=col>V2</th><th scope=col>V3</th></tr>\n",
       "\t<tr><th></th><th scope=col>&lt;int&gt;</th><th scope=col>&lt;chr&gt;</th><th scope=col>&lt;int&gt;</th></tr>\n",
       "</thead>\n",
       "<tbody>\n",
       "\t<tr><th scope=row>1</th><td> 63</td><td>ID=maker-chr_M_12-augustus-gene-106.15-mRNA-1:exon:49584;Parent=maker-chr_M_12-augustus-gene-106.15-mRNA-1</td><td>1</td></tr>\n",
       "\t<tr><th scope=row>2</th><td>151</td><td>ID=maker-chr_M_12-augustus-gene-106.15-mRNA-1:exon:49583;Parent=maker-chr_M_12-augustus-gene-106.15-mRNA-1</td><td>1</td></tr>\n",
       "\t<tr><th scope=row>3</th><td>575</td><td>ID=maker-chr_M_12-augustus-gene-170.1-mRNA-1:exon:50469;Parent=maker-chr_M_12-augustus-gene-170.1-mRNA-1  </td><td>1</td></tr>\n",
       "\t<tr><th scope=row>4</th><td>216</td><td>ID=maker-chr_M_12-augustus-gene-170.1-mRNA-1:exon:50468;Parent=maker-chr_M_12-augustus-gene-170.1-mRNA-1  </td><td>1</td></tr>\n",
       "\t<tr><th scope=row>5</th><td>237</td><td>ID=maker-chr_M_12-augustus-gene-170.3-mRNA-1:exon:50471;Parent=maker-chr_M_12-augustus-gene-170.3-mRNA-1  </td><td>1</td></tr>\n",
       "\t<tr><th scope=row>6</th><td>307</td><td>ID=maker-chr_M_12-augustus-gene-170.3-mRNA-1:exon:50470;Parent=maker-chr_M_12-augustus-gene-170.3-mRNA-1  </td><td>1</td></tr>\n",
       "</tbody>\n",
       "</table>\n"
      ],
      "text/latex": [
       "A data.frame: 6 × 3\n",
       "\\begin{tabular}{r|lll}\n",
       "  & V1 & V2 & V3\\\\\n",
       "  & <int> & <chr> & <int>\\\\\n",
       "\\hline\n",
       "\t1 &  63 & ID=maker-chr\\_M\\_12-augustus-gene-106.15-mRNA-1:exon:49584;Parent=maker-chr\\_M\\_12-augustus-gene-106.15-mRNA-1 & 1\\\\\n",
       "\t2 & 151 & ID=maker-chr\\_M\\_12-augustus-gene-106.15-mRNA-1:exon:49583;Parent=maker-chr\\_M\\_12-augustus-gene-106.15-mRNA-1 & 1\\\\\n",
       "\t3 & 575 & ID=maker-chr\\_M\\_12-augustus-gene-170.1-mRNA-1:exon:50469;Parent=maker-chr\\_M\\_12-augustus-gene-170.1-mRNA-1   & 1\\\\\n",
       "\t4 & 216 & ID=maker-chr\\_M\\_12-augustus-gene-170.1-mRNA-1:exon:50468;Parent=maker-chr\\_M\\_12-augustus-gene-170.1-mRNA-1   & 1\\\\\n",
       "\t5 & 237 & ID=maker-chr\\_M\\_12-augustus-gene-170.3-mRNA-1:exon:50471;Parent=maker-chr\\_M\\_12-augustus-gene-170.3-mRNA-1   & 1\\\\\n",
       "\t6 & 307 & ID=maker-chr\\_M\\_12-augustus-gene-170.3-mRNA-1:exon:50470;Parent=maker-chr\\_M\\_12-augustus-gene-170.3-mRNA-1   & 1\\\\\n",
       "\\end{tabular}\n"
      ],
      "text/markdown": [
       "\n",
       "A data.frame: 6 × 3\n",
       "\n",
       "| <!--/--> | V1 &lt;int&gt; | V2 &lt;chr&gt; | V3 &lt;int&gt; |\n",
       "|---|---|---|---|\n",
       "| 1 |  63 | ID=maker-chr_M_12-augustus-gene-106.15-mRNA-1:exon:49584;Parent=maker-chr_M_12-augustus-gene-106.15-mRNA-1 | 1 |\n",
       "| 2 | 151 | ID=maker-chr_M_12-augustus-gene-106.15-mRNA-1:exon:49583;Parent=maker-chr_M_12-augustus-gene-106.15-mRNA-1 | 1 |\n",
       "| 3 | 575 | ID=maker-chr_M_12-augustus-gene-170.1-mRNA-1:exon:50469;Parent=maker-chr_M_12-augustus-gene-170.1-mRNA-1   | 1 |\n",
       "| 4 | 216 | ID=maker-chr_M_12-augustus-gene-170.1-mRNA-1:exon:50468;Parent=maker-chr_M_12-augustus-gene-170.1-mRNA-1   | 1 |\n",
       "| 5 | 237 | ID=maker-chr_M_12-augustus-gene-170.3-mRNA-1:exon:50471;Parent=maker-chr_M_12-augustus-gene-170.3-mRNA-1   | 1 |\n",
       "| 6 | 307 | ID=maker-chr_M_12-augustus-gene-170.3-mRNA-1:exon:50470;Parent=maker-chr_M_12-augustus-gene-170.3-mRNA-1   | 1 |\n",
       "\n"
      ],
      "text/plain": [
       "  V1 \n",
       "1  63\n",
       "2 151\n",
       "3 575\n",
       "4 216\n",
       "5 237\n",
       "6 307\n",
       "  V2                                                                                                        \n",
       "1 ID=maker-chr_M_12-augustus-gene-106.15-mRNA-1:exon:49584;Parent=maker-chr_M_12-augustus-gene-106.15-mRNA-1\n",
       "2 ID=maker-chr_M_12-augustus-gene-106.15-mRNA-1:exon:49583;Parent=maker-chr_M_12-augustus-gene-106.15-mRNA-1\n",
       "3 ID=maker-chr_M_12-augustus-gene-170.1-mRNA-1:exon:50469;Parent=maker-chr_M_12-augustus-gene-170.1-mRNA-1  \n",
       "4 ID=maker-chr_M_12-augustus-gene-170.1-mRNA-1:exon:50468;Parent=maker-chr_M_12-augustus-gene-170.1-mRNA-1  \n",
       "5 ID=maker-chr_M_12-augustus-gene-170.3-mRNA-1:exon:50471;Parent=maker-chr_M_12-augustus-gene-170.3-mRNA-1  \n",
       "6 ID=maker-chr_M_12-augustus-gene-170.3-mRNA-1:exon:50470;Parent=maker-chr_M_12-augustus-gene-170.3-mRNA-1  \n",
       "  V3\n",
       "1 1 \n",
       "2 1 \n",
       "3 1 \n",
       "4 1 \n",
       "5 1 \n",
       "6 1 "
      ]
     },
     "metadata": {},
     "output_type": "display_data"
    },
    {
     "data": {
      "text/html": [
       "<table class=\"dataframe\">\n",
       "<caption>A data.frame: 6 × 3</caption>\n",
       "<thead>\n",
       "\t<tr><th></th><th scope=col>exon_length</th><th scope=col>gene_exon_id</th><th scope=col>PAG</th></tr>\n",
       "\t<tr><th></th><th scope=col>&lt;int&gt;</th><th scope=col>&lt;chr&gt;</th><th scope=col>&lt;int&gt;</th></tr>\n",
       "</thead>\n",
       "<tbody>\n",
       "\t<tr><th scope=row>1</th><td> 63</td><td>ID=maker-chr_M_12-augustus-gene-106.15-mRNA-1:exon:49584;Parent=maker-chr_M_12-augustus-gene-106.15-mRNA-1</td><td>1</td></tr>\n",
       "\t<tr><th scope=row>2</th><td>151</td><td>ID=maker-chr_M_12-augustus-gene-106.15-mRNA-1:exon:49583;Parent=maker-chr_M_12-augustus-gene-106.15-mRNA-1</td><td>1</td></tr>\n",
       "\t<tr><th scope=row>3</th><td>575</td><td>ID=maker-chr_M_12-augustus-gene-170.1-mRNA-1:exon:50469;Parent=maker-chr_M_12-augustus-gene-170.1-mRNA-1  </td><td>1</td></tr>\n",
       "\t<tr><th scope=row>4</th><td>216</td><td>ID=maker-chr_M_12-augustus-gene-170.1-mRNA-1:exon:50468;Parent=maker-chr_M_12-augustus-gene-170.1-mRNA-1  </td><td>1</td></tr>\n",
       "\t<tr><th scope=row>5</th><td>237</td><td>ID=maker-chr_M_12-augustus-gene-170.3-mRNA-1:exon:50471;Parent=maker-chr_M_12-augustus-gene-170.3-mRNA-1  </td><td>1</td></tr>\n",
       "\t<tr><th scope=row>6</th><td>307</td><td>ID=maker-chr_M_12-augustus-gene-170.3-mRNA-1:exon:50470;Parent=maker-chr_M_12-augustus-gene-170.3-mRNA-1  </td><td>1</td></tr>\n",
       "</tbody>\n",
       "</table>\n"
      ],
      "text/latex": [
       "A data.frame: 6 × 3\n",
       "\\begin{tabular}{r|lll}\n",
       "  & exon\\_length & gene\\_exon\\_id & PAG\\\\\n",
       "  & <int> & <chr> & <int>\\\\\n",
       "\\hline\n",
       "\t1 &  63 & ID=maker-chr\\_M\\_12-augustus-gene-106.15-mRNA-1:exon:49584;Parent=maker-chr\\_M\\_12-augustus-gene-106.15-mRNA-1 & 1\\\\\n",
       "\t2 & 151 & ID=maker-chr\\_M\\_12-augustus-gene-106.15-mRNA-1:exon:49583;Parent=maker-chr\\_M\\_12-augustus-gene-106.15-mRNA-1 & 1\\\\\n",
       "\t3 & 575 & ID=maker-chr\\_M\\_12-augustus-gene-170.1-mRNA-1:exon:50469;Parent=maker-chr\\_M\\_12-augustus-gene-170.1-mRNA-1   & 1\\\\\n",
       "\t4 & 216 & ID=maker-chr\\_M\\_12-augustus-gene-170.1-mRNA-1:exon:50468;Parent=maker-chr\\_M\\_12-augustus-gene-170.1-mRNA-1   & 1\\\\\n",
       "\t5 & 237 & ID=maker-chr\\_M\\_12-augustus-gene-170.3-mRNA-1:exon:50471;Parent=maker-chr\\_M\\_12-augustus-gene-170.3-mRNA-1   & 1\\\\\n",
       "\t6 & 307 & ID=maker-chr\\_M\\_12-augustus-gene-170.3-mRNA-1:exon:50470;Parent=maker-chr\\_M\\_12-augustus-gene-170.3-mRNA-1   & 1\\\\\n",
       "\\end{tabular}\n"
      ],
      "text/markdown": [
       "\n",
       "A data.frame: 6 × 3\n",
       "\n",
       "| <!--/--> | exon_length &lt;int&gt; | gene_exon_id &lt;chr&gt; | PAG &lt;int&gt; |\n",
       "|---|---|---|---|\n",
       "| 1 |  63 | ID=maker-chr_M_12-augustus-gene-106.15-mRNA-1:exon:49584;Parent=maker-chr_M_12-augustus-gene-106.15-mRNA-1 | 1 |\n",
       "| 2 | 151 | ID=maker-chr_M_12-augustus-gene-106.15-mRNA-1:exon:49583;Parent=maker-chr_M_12-augustus-gene-106.15-mRNA-1 | 1 |\n",
       "| 3 | 575 | ID=maker-chr_M_12-augustus-gene-170.1-mRNA-1:exon:50469;Parent=maker-chr_M_12-augustus-gene-170.1-mRNA-1   | 1 |\n",
       "| 4 | 216 | ID=maker-chr_M_12-augustus-gene-170.1-mRNA-1:exon:50468;Parent=maker-chr_M_12-augustus-gene-170.1-mRNA-1   | 1 |\n",
       "| 5 | 237 | ID=maker-chr_M_12-augustus-gene-170.3-mRNA-1:exon:50471;Parent=maker-chr_M_12-augustus-gene-170.3-mRNA-1   | 1 |\n",
       "| 6 | 307 | ID=maker-chr_M_12-augustus-gene-170.3-mRNA-1:exon:50470;Parent=maker-chr_M_12-augustus-gene-170.3-mRNA-1   | 1 |\n",
       "\n"
      ],
      "text/plain": [
       "  exon_length\n",
       "1  63        \n",
       "2 151        \n",
       "3 575        \n",
       "4 216        \n",
       "5 237        \n",
       "6 307        \n",
       "  gene_exon_id                                                                                              \n",
       "1 ID=maker-chr_M_12-augustus-gene-106.15-mRNA-1:exon:49584;Parent=maker-chr_M_12-augustus-gene-106.15-mRNA-1\n",
       "2 ID=maker-chr_M_12-augustus-gene-106.15-mRNA-1:exon:49583;Parent=maker-chr_M_12-augustus-gene-106.15-mRNA-1\n",
       "3 ID=maker-chr_M_12-augustus-gene-170.1-mRNA-1:exon:50469;Parent=maker-chr_M_12-augustus-gene-170.1-mRNA-1  \n",
       "4 ID=maker-chr_M_12-augustus-gene-170.1-mRNA-1:exon:50468;Parent=maker-chr_M_12-augustus-gene-170.1-mRNA-1  \n",
       "5 ID=maker-chr_M_12-augustus-gene-170.3-mRNA-1:exon:50471;Parent=maker-chr_M_12-augustus-gene-170.3-mRNA-1  \n",
       "6 ID=maker-chr_M_12-augustus-gene-170.3-mRNA-1:exon:50470;Parent=maker-chr_M_12-augustus-gene-170.3-mRNA-1  \n",
       "  PAG\n",
       "1 1  \n",
       "2 1  \n",
       "3 1  \n",
       "4 1  \n",
       "5 1  \n",
       "6 1  "
      ]
     },
     "metadata": {},
     "output_type": "display_data"
    },
    {
     "ename": "",
     "evalue": "",
     "output_type": "error",
     "traceback": [
      "\u001b[1;31mThe Kernel crashed while executing code in the current cell or a previous cell. \n",
      "\u001b[1;31mPlease review the code in the cell(s) to identify a possible cause of the failure. \n",
      "\u001b[1;31mClick <a href='https://aka.ms/vscodeJupyterKernelCrash'>here</a> for more info. \n",
      "\u001b[1;31mView Jupyter <a href='command:jupyter.viewOutput'>log</a> for further details."
     ]
    }
   ],
   "source": [
    "exon_data <- read.table(\"results_Pan_040_gff_expl_anal/Pan_040_element_exon_lengths_marked.txt\",header = FALSE, sep = \"\\t\", fill = TRUE, stringsAsFactors = FALSE)\n",
    "head(exon_data)\n",
    "\n",
    "colnames(exon_data) <- c(\"exon_length\", \"gene_exon_id\", \"PAG\")\n",
    "\n",
    "head(exon_data)\n"
   ]
  },
  {
   "cell_type": "code",
   "execution_count": 35,
   "metadata": {
    "vscode": {
     "languageId": "r"
    }
   },
   "outputs": [
    {
     "data": {
      "text/html": [
       "<table class=\"dataframe\">\n",
       "<caption>A data.frame: 6 × 1</caption>\n",
       "<thead>\n",
       "\t<tr><th></th><th scope=col>V1</th></tr>\n",
       "\t<tr><th></th><th scope=col>&lt;chr&gt;</th></tr>\n",
       "</thead>\n",
       "<tbody>\n",
       "\t<tr><th scope=row>1</th><td>maker-chr_M_12-augustus-gene-170.3           </td></tr>\n",
       "\t<tr><th scope=row>2</th><td>maker-chr_M_12-augustus-gene-171.2           </td></tr>\n",
       "\t<tr><th scope=row>3</th><td>maker-chr_M_12-augustus-gene-171.1           </td></tr>\n",
       "\t<tr><th scope=row>4</th><td>augustus_masked-chr_M_12-processed-gene-172.6</td></tr>\n",
       "\t<tr><th scope=row>5</th><td>maker-chr_M_12-augustus-gene-170.2           </td></tr>\n",
       "\t<tr><th scope=row>6</th><td>maker-chr_M_12-augustus-gene-171.0           </td></tr>\n",
       "</tbody>\n",
       "</table>\n"
      ],
      "text/latex": [
       "A data.frame: 6 × 1\n",
       "\\begin{tabular}{r|l}\n",
       "  & V1\\\\\n",
       "  & <chr>\\\\\n",
       "\\hline\n",
       "\t1 & maker-chr\\_M\\_12-augustus-gene-170.3           \\\\\n",
       "\t2 & maker-chr\\_M\\_12-augustus-gene-171.2           \\\\\n",
       "\t3 & maker-chr\\_M\\_12-augustus-gene-171.1           \\\\\n",
       "\t4 & augustus\\_masked-chr\\_M\\_12-processed-gene-172.6\\\\\n",
       "\t5 & maker-chr\\_M\\_12-augustus-gene-170.2           \\\\\n",
       "\t6 & maker-chr\\_M\\_12-augustus-gene-171.0           \\\\\n",
       "\\end{tabular}\n"
      ],
      "text/markdown": [
       "\n",
       "A data.frame: 6 × 1\n",
       "\n",
       "| <!--/--> | V1 &lt;chr&gt; |\n",
       "|---|---|\n",
       "| 1 | maker-chr_M_12-augustus-gene-170.3            |\n",
       "| 2 | maker-chr_M_12-augustus-gene-171.2            |\n",
       "| 3 | maker-chr_M_12-augustus-gene-171.1            |\n",
       "| 4 | augustus_masked-chr_M_12-processed-gene-172.6 |\n",
       "| 5 | maker-chr_M_12-augustus-gene-170.2            |\n",
       "| 6 | maker-chr_M_12-augustus-gene-171.0            |\n",
       "\n"
      ],
      "text/plain": [
       "  V1                                           \n",
       "1 maker-chr_M_12-augustus-gene-170.3           \n",
       "2 maker-chr_M_12-augustus-gene-171.2           \n",
       "3 maker-chr_M_12-augustus-gene-171.1           \n",
       "4 augustus_masked-chr_M_12-processed-gene-172.6\n",
       "5 maker-chr_M_12-augustus-gene-170.2           \n",
       "6 maker-chr_M_12-augustus-gene-171.0           "
      ]
     },
     "metadata": {},
     "output_type": "display_data"
    },
    {
     "data": {
      "text/html": [
       "<table class=\"dataframe\">\n",
       "<caption>A data.frame: 6 × 1</caption>\n",
       "<thead>\n",
       "\t<tr><th></th><th scope=col>V1</th></tr>\n",
       "\t<tr><th></th><th scope=col>&lt;chr&gt;</th></tr>\n",
       "</thead>\n",
       "<tbody>\n",
       "\t<tr><th scope=row>1</th><td>maker-chr_M_20-augustus-gene-0.0</td></tr>\n",
       "\t<tr><th scope=row>2</th><td>maker-chr_M_20-augustus-gene-0.1</td></tr>\n",
       "\t<tr><th scope=row>3</th><td>maker-chr_M_20-augustus-gene-0.2</td></tr>\n",
       "\t<tr><th scope=row>4</th><td>maker-chr_M_20-augustus-gene-1.0</td></tr>\n",
       "\t<tr><th scope=row>5</th><td>maker-chr_M_20-augustus-gene-1.1</td></tr>\n",
       "\t<tr><th scope=row>6</th><td>maker-chr_M_20-augustus-gene-1.5</td></tr>\n",
       "</tbody>\n",
       "</table>\n"
      ],
      "text/latex": [
       "A data.frame: 6 × 1\n",
       "\\begin{tabular}{r|l}\n",
       "  & V1\\\\\n",
       "  & <chr>\\\\\n",
       "\\hline\n",
       "\t1 & maker-chr\\_M\\_20-augustus-gene-0.0\\\\\n",
       "\t2 & maker-chr\\_M\\_20-augustus-gene-0.1\\\\\n",
       "\t3 & maker-chr\\_M\\_20-augustus-gene-0.2\\\\\n",
       "\t4 & maker-chr\\_M\\_20-augustus-gene-1.0\\\\\n",
       "\t5 & maker-chr\\_M\\_20-augustus-gene-1.1\\\\\n",
       "\t6 & maker-chr\\_M\\_20-augustus-gene-1.5\\\\\n",
       "\\end{tabular}\n"
      ],
      "text/markdown": [
       "\n",
       "A data.frame: 6 × 1\n",
       "\n",
       "| <!--/--> | V1 &lt;chr&gt; |\n",
       "|---|---|\n",
       "| 1 | maker-chr_M_20-augustus-gene-0.0 |\n",
       "| 2 | maker-chr_M_20-augustus-gene-0.1 |\n",
       "| 3 | maker-chr_M_20-augustus-gene-0.2 |\n",
       "| 4 | maker-chr_M_20-augustus-gene-1.0 |\n",
       "| 5 | maker-chr_M_20-augustus-gene-1.1 |\n",
       "| 6 | maker-chr_M_20-augustus-gene-1.5 |\n",
       "\n"
      ],
      "text/plain": [
       "  V1                              \n",
       "1 maker-chr_M_20-augustus-gene-0.0\n",
       "2 maker-chr_M_20-augustus-gene-0.1\n",
       "3 maker-chr_M_20-augustus-gene-0.2\n",
       "4 maker-chr_M_20-augustus-gene-1.0\n",
       "5 maker-chr_M_20-augustus-gene-1.1\n",
       "6 maker-chr_M_20-augustus-gene-1.5"
      ]
     },
     "metadata": {},
     "output_type": "display_data"
    }
   ],
   "source": [
    "# import PAG_IDS and all gene IDS\n",
    "PAG_IDS <- read.table(\"PAG_IDS.txt\", header = FALSE, sep = \"\\t\", fill = TRUE, stringsAsFactors = FALSE)\n",
    "head(PAG_IDS)\n",
    "colnames(PAG_IDS) <- c(\"geneid\")\n",
    "\n",
    "All_gene_IDS <- read.table(\"Pan_040_gene_IDS.txt\", header = FALSE, sep = \"\\t\", fill = TRUE, stringsAsFactors = FALSE) \n",
    "head(All_gene_IDS)\n",
    "colnames(All_gene_IDS) <- c(\"geneid\")"
   ]
  },
  {
   "cell_type": "code",
   "execution_count": 10,
   "metadata": {
    "vscode": {
     "languageId": "r"
    }
   },
   "outputs": [
    {
     "name": "stderr",
     "output_type": "stream",
     "text": [
      "Installing package into 'C:/Users/Ayush/AppData/Local/R/win-library/4.3'\n",
      "(as 'lib' is unspecified)\n",
      "\n"
     ]
    },
    {
     "name": "stdout",
     "output_type": "stream",
     "text": [
      "package 'tidyverse' successfully unpacked and MD5 sums checked\n",
      "\n",
      "The downloaded binary packages are in\n",
      "\tC:\\Users\\Ayush\\AppData\\Local\\Temp\\RtmpQjOUu8\\downloaded_packages\n"
     ]
    }
   ],
   "source": [
    "install.packages(\"tidyverse\")"
   ]
  },
  {
   "cell_type": "code",
   "execution_count": 18,
   "metadata": {
    "vscode": {
     "languageId": "r"
    }
   },
   "outputs": [],
   "source": [
    "library(tidyverse)"
   ]
  },
  {
   "cell_type": "code",
   "execution_count": 19,
   "metadata": {
    "vscode": {
     "languageId": "r"
    }
   },
   "outputs": [],
   "source": [
    "# make a non-PAG data frame\n",
    "non_PAG_IDS <- All_gene_IDS[!All_gene_IDS$geneid %in% PAG_IDS$geneid,]"
   ]
  },
  {
   "cell_type": "code",
   "execution_count": null,
   "metadata": {
    "vscode": {
     "languageId": "r"
    }
   },
   "outputs": [],
   "source": [
    "## find number of exons for each gene\n",
    "# empty vector to store the number of exons"
   ]
  }
 ],
 "metadata": {
  "kernelspec": {
   "display_name": "R",
   "language": "R",
   "name": "ir"
  },
  "language_info": {
   "codemirror_mode": "r",
   "file_extension": ".r",
   "mimetype": "text/x-r-source",
   "name": "R",
   "pygments_lexer": "r",
   "version": "4.3.0"
  }
 },
 "nbformat": 4,
 "nbformat_minor": 2
}
